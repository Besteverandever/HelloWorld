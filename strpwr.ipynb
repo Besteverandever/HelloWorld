{
 "cells": [
  {
   "cell_type": "code",
   "execution_count": 106,
   "metadata": {},
   "outputs": [
    {
     "name": "stdout",
     "output_type": "stream",
     "text": [
      "c\n",
      "c 2\n",
      "here 2 [2, 2, None, None, None, None, None]\n",
      "b\n",
      "b 1\n",
      "here 3 [2, 2, 1, None, None, None, None]\n",
      "c\n",
      "c 2\n",
      "here 5 [2, 2, 1, 2, 2, None, None]\n",
      "b\n",
      "b 2\n",
      "here 7 [2, 2, 1, 2, 2, 2, 2]\n"
     ]
    }
   ],
   "source": [
    "a = \"ccbccbb\"\n",
    "power = [None] * len(a)\n",
    "\n",
    "i=0\n",
    "while(i != len(a)):\n",
    "    ch = a[i]\n",
    "    print(ch)\n",
    "    counter=1\n",
    "    j=i\n",
    "    if(j+1 != len(a)):\n",
    "        while (a[j] == a[j+1]):\n",
    "            counter = counter + 1\n",
    "            j=j+1\n",
    "            if(j+1 == len(a)):\n",
    "                break #break if last letter\n",
    "        print(ch, counter)\n",
    "        if(counter > 1):\n",
    "            for k in range(0, counter):\n",
    "                power[i+k] = counter                \n",
    "        else:\n",
    "            power[i] = counter        \n",
    "        i = i+counter\n",
    "        print(\"here\", i, power)\n",
    "    else:\n",
    "        print(i, counter)\n",
    "        power[i] = counter\n",
    "        print(power)\n",
    "        i=i+1\n",
    "    \n"
   ]
  },
  {
   "cell_type": "code",
   "execution_count": 107,
   "metadata": {},
   "outputs": [
    {
     "data": {
      "text/plain": [
       "2"
      ]
     },
     "execution_count": 107,
     "metadata": {},
     "output_type": "execute_result"
    }
   ],
   "source": [
    "max(power)"
   ]
  },
  {
   "cell_type": "code",
   "execution_count": 75,
   "metadata": {},
   "outputs": [
    {
     "data": {
      "text/plain": [
       "['i', 'u', 's', 'o', 'r', 't']"
      ]
     },
     "execution_count": 75,
     "metadata": {},
     "output_type": "execute_result"
    }
   ],
   "source": [
    "a = 'tourist'\n",
    "unique_a = list(set(a))\n",
    "unique_a"
   ]
  },
  {
   "cell_type": "code",
   "execution_count": 76,
   "metadata": {},
   "outputs": [],
   "source": [
    "power = [None] * len(unique_a)"
   ]
  },
  {
   "cell_type": "code",
   "execution_count": 77,
   "metadata": {},
   "outputs": [
    {
     "name": "stdout",
     "output_type": "stream",
     "text": [
      "Character i in string tourist is present at 5\n",
      "Character i in string tourist has power 1\n",
      "Character u in string tourist is present at 3\n",
      "Character u in string tourist has power 1\n",
      "Character s in string tourist is present at 6\n",
      "Character s in string tourist has power 1\n",
      "Character o in string tourist is present at 2\n",
      "Character o in string tourist has power 1\n",
      "Character r in string tourist is present at 4\n",
      "Character r in string tourist has power 1\n",
      "Character t in string tourist is present at 1\n",
      "Character t in string tourist has power 1\n"
     ]
    }
   ],
   "source": [
    "for i in range(len(unique_a)):\n",
    "    res = a.index(unique_a[i])\n",
    "    print (\"Character {} in string {} is present at {}\".format( \n",
    "                                  unique_a[i], a, str(res + 1)))\n",
    "    counter = 1\n",
    "    if(res+1 != len(a)): #not the last character\n",
    "        while(a[res] == a[res+1]):\n",
    "            counter=counter+1\n",
    "            res=res+1            \n",
    "        print(\"Character {} in string {} has power {}\".format(unique_a[i], a, counter))                \n",
    "    else:\n",
    "        print(\"Character {} in string {} is last character\".format(unique_a[i], a))\n",
    "    power[i]=counter\n"
   ]
  },
  {
   "cell_type": "code",
   "execution_count": 78,
   "metadata": {},
   "outputs": [
    {
     "data": {
      "text/plain": [
       "[1, 1, 1, 1, 1, 1]"
      ]
     },
     "execution_count": 78,
     "metadata": {},
     "output_type": "execute_result"
    }
   ],
   "source": [
    "power"
   ]
  },
  {
   "cell_type": "code",
   "execution_count": 79,
   "metadata": {},
   "outputs": [
    {
     "data": {
      "text/plain": [
       "1"
      ]
     },
     "execution_count": 79,
     "metadata": {},
     "output_type": "execute_result"
    }
   ],
   "source": [
    "np.max(np.array(power))"
   ]
  },
  {
   "cell_type": "code",
   "execution_count": null,
   "metadata": {},
   "outputs": [],
   "source": []
  }
 ],
 "metadata": {
  "kernelspec": {
   "display_name": "Python 3",
   "language": "python",
   "name": "python3"
  },
  "language_info": {
   "codemirror_mode": {
    "name": "ipython",
    "version": 3
   },
   "file_extension": ".py",
   "mimetype": "text/x-python",
   "name": "python",
   "nbconvert_exporter": "python",
   "pygments_lexer": "ipython3",
   "version": "3.7.3"
  }
 },
 "nbformat": 4,
 "nbformat_minor": 2
}
